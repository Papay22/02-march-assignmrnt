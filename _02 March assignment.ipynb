{
 "cells": [
  {
   "cell_type": "code",
   "execution_count": null,
   "id": "77e2fd2d-11c0-4723-8383-66329b453419",
   "metadata": {},
   "outputs": [],
   "source": [
    "Answer: Matplotlib is a Python library for creating 2D plots and graphs. It is used for data visualization and creating data visualizations in Python. Five plots that can be plotted using the Pyplot module of Matplotlib are: line plot, bar plot, histogram, scatter plot, and pie chart."
   ]
  },
  {
   "cell_type": "code",
   "execution_count": null,
   "id": "e262a362-6686-4309-9657-8319884c30db",
   "metadata": {},
   "outputs": [],
   "source": [
    "A scatter plot is a type of plot that displays values for two variables for a set of data. It is used to show the relationship between two variables.\n",
    "\n",
    "\n",
    "import matplotlib.pyplot as plt\n",
    "\n",
    "import numpy as np\n",
    "\n",
    "np.random.seed(3)\n",
    "\n",
    "x = 3 + np.random.normal(0, 2, 50)\n",
    "\n",
    "y = 3 + np.random.normal(0, 2, len(x))\n",
    "\n",
    "\n",
    "plt.scatter(x, y)\n",
    "\n",
    "plt.title('Scatter Plot')\n",
    "\n",
    "plt.xlabel('x')\n",
    "\n",
    "plt.ylabel('y')\n",
    "\n",
    "plt.show()\n",
    "\n"
   ]
  },
  {
   "cell_type": "code",
   "execution_count": null,
   "id": "02672f9f-2981-4b08-bcf5-a6654f26971a",
   "metadata": {},
   "outputs": [],
   "source": [
    "Answer: The subplot() function is used to create multiple plots that are contained within a single figure. This allows for comparison of different data sets in a single figure.\n",
    "\n",
    "\n",
    "import matplotlib.pyplot as plt\n",
    "\n",
    "import numpy as np\n",
    "\n",
    "\n",
    "x1 = np.array(0, 1, 2, 3, 4, 5)\n",
    "\n",
    "y1 = np.array(0, 100, 200, 300, 400, 500)\n",
    "\n",
    "x2 = np.array(0, 1, 2, 3, 4, 5)\n",
    "\n",
    "y2 = np.array(50, 20, 40, 20, 60, 70)\n",
    "\n",
    "x3 = np.array(0, 1, 2, 3, 4, 5)\n",
    "\n",
    "y3 = np.array(10, 20, 30, 40, 50, 60)\n",
    "\n",
    "x4 = np.array(0, 1, 2, 3, 4, 5)\n",
    "\n",
    "y4 = np.array(200, 350, 250, 550, 450, 150)\n",
    "\n",
    "\n",
    "plt.subplot(2,2,1)\n",
    "\n",
    "plt.plot(x1 , y1)\n",
    "\n",
    "plt.title('Line 1')\n",
    "\n",
    "\n",
    "plt.subplot(2,2,2)\n",
    "\n",
    "plt.plot(x2 , y2)\n",
    "\n",
    "plt.title('Line 2')\n",
    "\n",
    "\n",
    "plt.subplot(2 , 2 , 3)\n",
    "\n",
    "plt.plot(x3 , y3)\n",
    "\n",
    "plt.title('Line 3')\n",
    "\n",
    "\n",
    "plt.subplot(2 , 2 , 4)\n",
    "\n",
    "plt.plot(x4 , y4)\n",
    "\n",
    "plt.title('Line 4')\n",
    "\n",
    "\n",
    "plt.show()"
   ]
  },
  {
   "cell_type": "code",
   "execution_count": null,
   "id": "1ac75a20-6830-4af2-b0e9-297973f54412",
   "metadata": {},
   "outputs": [],
   "source": [
    "box3 = np.random.normal(80, 30, 200)"
   ]
  }
 ],
 "metadata": {
  "kernelspec": {
   "display_name": "Python 3 (ipykernel)",
   "language": "python",
   "name": "python3"
  },
  "language_info": {
   "codemirror_mode": {
    "name": "ipython",
    "version": 3
   },
   "file_extension": ".py",
   "mimetype": "text/x-python",
   "name": "python",
   "nbconvert_exporter": "python",
   "pygments_lexer": "ipython3",
   "version": "3.10.8"
  }
 },
 "nbformat": 4,
 "nbformat_minor": 5
}
